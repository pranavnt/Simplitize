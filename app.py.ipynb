{
 "cells": [
  {
   "cell_type": "code",
   "execution_count": 14,
   "metadata": {},
   "outputs": [],
   "source": [
    "from flask import Flask,render_template,url_for,request\n",
    "import nltk\n",
    "from nltk.corpus import stopwords\n",
    "from nltk.tokenize import word_tokenize, sent_tokenize\n",
    "import heapq"
   ]
  },
  {
   "cell_type": "code",
   "execution_count": 15,
   "metadata": {},
   "outputs": [],
   "source": [
    "app = Flask(__name__)"
   ]
  },
  {
   "cell_type": "code",
   "execution_count": 16,
   "metadata": {},
   "outputs": [],
   "source": [
    "def html1(content):\n",
    "   return '<html><head><title>Summarized</title></head><body><h1>Summarized Text</h1><hr><p>'+content+'</p></body></html>'"
   ]
  },
  {
   "cell_type": "code",
   "execution_count": 17,
   "metadata": {},
   "outputs": [],
   "source": [
    "def html2(question, answer):\n",
    "   return '<html><head><title>Summarized</title></head><body><h1>Answered Question</h1><hr><h4>Question: '+question+'</h4><p>Answer:'+answer+'</p></body></html>'"
   ]
  },
  {
   "cell_type": "code",
   "execution_count": 18,
   "metadata": {},
   "outputs": [],
   "source": [
    "@app.route('/summarize',methods=['POST'])\n",
    "def summarize():\n",
    "    def summarizer(raw_text):\n",
    "        stopWords = set(stopwords.words(\"english\"))\n",
    "        word_frequencies = {}  \n",
    "        for word in nltk.word_tokenize(raw_text):  \n",
    "            if word not in stopWords:\n",
    "                if word not in word_frequencies.keys():\n",
    "                    word_frequencies[word] = 1\n",
    "                else:\n",
    "                    word_frequencies[word] += 1\n",
    "\n",
    "        maximum_frequncy = max(word_frequencies.values())\n",
    "\n",
    "        for word in word_frequencies.keys():  \n",
    "            word_frequencies[word] = (word_frequencies[word]/maximum_frequncy)\n",
    "\n",
    "        sentence_list = nltk.sent_tokenize(raw_text)\n",
    "        sentence_scores = {}  \n",
    "        for sent in sentence_list:  \n",
    "            for word in nltk.word_tokenize(sent.lower()):\n",
    "                if word in word_frequencies.keys():\n",
    "                    if len(sent.split(' ')) < 30:\n",
    "                        if sent not in sentence_scores.keys():\n",
    "                            sentence_scores[sent] = word_frequencies[word]\n",
    "                        else:\n",
    "                            sentence_scores[sent] += word_frequencies[word]\n",
    "\n",
    "\n",
    "\n",
    "        summary_sentences = heapq.nlargest(10, sentence_scores, key=sentence_scores.get)\n",
    "\n",
    "        summary = ' '.join(summary_sentences)  \n",
    "        return summary\n",
    "\n",
    "\n",
    "    if request.method == 'POST':\n",
    "        documentText = request.form['documentText']\n",
    "        \n",
    "    return html1(summarizer(documentText))"
   ]
  },
  {
   "cell_type": "code",
   "execution_count": 19,
   "metadata": {},
   "outputs": [],
   "source": [
    "@app.route('/answer',methods=['POST'])\n",
    "def answer():\n",
    "    import torch\n",
    "    from transformers import BertTokenizer, BertForQuestionAnswering\n",
    "    tokenizer = BertTokenizer.from_pretrained('./saved_tokenizing_model')\n",
    "    model = BertForQuestionAnswering.from_pretrained('./saved_question_answering_model')\n",
    "    #function that answers a question\n",
    "    def answerQuestion(question,context):\n",
    "        encodedText = tokenizer.encode(\"[CLS] \" + question + \" [SEP] \" + context + \" [SEP]\")\n",
    "        tokens = [0 if i <= encodedText.index(102) else 1 for i in range(len(encodedText))]\n",
    "        startScore, endScore = model(torch.tensor([encodedText]), token_type_ids=torch.tensor([tokens]))\n",
    "        allTokens = tokenizer.convert_ids_to_tokens(encodedText)  \n",
    "        returnText = (' '.join(allTokens[torch.argmax(startScore) : torch.argmax(endScore)+1]))\n",
    "        return str(returnText).replace(\"#\", \"\")\n",
    "        \n",
    "    if request.method == 'POST':\n",
    "        context = request.form['context']\n",
    "        question = request.form['question']\n",
    "\n",
    "    return html2(question,(answerQuestion(question, context)))"
   ]
  },
  {
   "cell_type": "code",
   "execution_count": null,
   "metadata": {},
   "outputs": [
    {
     "name": "stdout",
     "output_type": "stream",
     "text": [
      " * Serving Flask app \"__main__\" (lazy loading)\n",
      " * Environment: production\n",
      "   WARNING: This is a development server. Do not use it in a production deployment.\n",
      "   Use a production WSGI server instead.\n",
      " * Debug mode: on\n"
     ]
    },
    {
     "name": "stderr",
     "output_type": "stream",
     "text": [
      " * Running on http://localhost:8003/ (Press CTRL+C to quit)\n",
      "127.0.0.1 - - [28/Jun/2020 14:23:43] \"\u001b[37mPOST /answer HTTP/1.1\u001b[0m\" 200 -\n",
      "127.0.0.1 - - [28/Jun/2020 14:23:46] \"\u001b[33mGET /favicon.ico HTTP/1.1\u001b[0m\" 404 -\n",
      "127.0.0.1 - - [28/Jun/2020 14:47:23] \"\u001b[37mPOST /summarize HTTP/1.1\u001b[0m\" 200 -\n",
      "127.0.0.1 - - [28/Jun/2020 14:47:40] \"\u001b[37mPOST /summarize HTTP/1.1\u001b[0m\" 200 -\n",
      "127.0.0.1 - - [28/Jun/2020 14:48:34] \"\u001b[37mPOST /answer HTTP/1.1\u001b[0m\" 200 -\n",
      "127.0.0.1 - - [28/Jun/2020 14:50:46] \"\u001b[37mPOST /summarize HTTP/1.1\u001b[0m\" 200 -\n"
     ]
    }
   ],
   "source": [
    "if __name__ == '__main__':\n",
    "    app.run(host=\"localhost\", port=8003, use_reloader=False,debug=True)"
   ]
  },
  {
   "cell_type": "code",
   "execution_count": null,
   "metadata": {},
   "outputs": [],
   "source": []
  }
 ],
 "metadata": {
  "kernelspec": {
   "display_name": "Python 3",
   "language": "python",
   "name": "python3"
  },
  "language_info": {
   "codemirror_mode": {
    "name": "ipython",
    "version": 3
   },
   "file_extension": ".py",
   "mimetype": "text/x-python",
   "name": "python",
   "nbconvert_exporter": "python",
   "pygments_lexer": "ipython3",
   "version": "3.7.6"
  }
 },
 "nbformat": 4,
 "nbformat_minor": 4
}
